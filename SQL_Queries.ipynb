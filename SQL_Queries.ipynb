{
  "nbformat": 4,
  "nbformat_minor": 0,
  "metadata": {
    "colab": {
      "provenance": [],
      "authorship_tag": "ABX9TyNkSDDnR00m3bO9aFvGC8LT",
      "include_colab_link": true
    },
    "kernelspec": {
      "name": "python3",
      "display_name": "Python 3"
    },
    "language_info": {
      "name": "python"
    }
  },
  "cells": [
    {
      "cell_type": "markdown",
      "metadata": {
        "id": "view-in-github",
        "colab_type": "text"
      },
      "source": [
        "<a href=\"https://colab.research.google.com/github/Dcode626/ML_lessons/blob/main/SQL_Queries.ipynb\" target=\"_parent\"><img src=\"https://colab.research.google.com/assets/colab-badge.svg\" alt=\"Open In Colab\"/></a>"
      ]
    },
    {
      "cell_type": "code",
      "execution_count": 1,
      "metadata": {
        "id": "8ZnHyCsprsy4",
        "colab": {
          "base_uri": "https://localhost:8080/"
        },
        "outputId": "a130fefb-5f0c-4d94-ed79-4cdd537e2904"
      },
      "outputs": [
        {
          "output_type": "stream",
          "name": "stderr",
          "text": [
            "UsageError: Cell magic `%%sql` not found.\n"
          ]
        }
      ],
      "source": [
        "%%sqllite\n",
        "Schema:\n",
        "\n",
        "transactions\n",
        "\n",
        "column\ttype\tdescription\n",
        "transaction_id\tINT\tunique ID\n",
        "user_id\tINT\tcustomer ID\n",
        "transaction_date\tDATE\ttransaction date\n",
        "amount\tDECIMAL\tamount in USD\n",
        "status\tVARCHAR\t(‘SUCCESS’, ‘FAILED’, ‘DECLINED’, ‘CHARGEBACK’)\n",
        "merchant_id\tINT\tmerchant identifier\n",
        "country\tVARCHAR\ttransaction country\n",
        "\n",
        "users\n",
        "\n",
        "column\ttype\tdescription\n",
        "user_id\tINT\tunique customer ID\n",
        "account_created\tDATE\taccount creation date\n",
        "credit_limit\tDECIMAL\tavailable limit\n",
        "risk_score\tINT\tinternal fraud risk score (1–100)"
      ]
    },
    {
      "cell_type": "code",
      "source": [
        "Table: transactions\n",
        "| transaction_id | user_id | amount | status | country | transaction_date |\n",
        "\n",
        "Question 1:\n",
        "Write an SQL query to fetch all transactions made in the UK where the amount is greater than 5000 and the status is 'SUCCESS', ordered by amount (highest first).\n",
        "\n",
        "👉 Return columns:\n",
        "transaction_id, user_id, amount, transaction_date"
      ],
      "metadata": {
        "id": "tTp_3AVc6UNy"
      },
      "execution_count": null,
      "outputs": []
    },
    {
      "cell_type": "code",
      "source": [
        "SELECT\n",
        "  transaction_id,\n",
        "  user_id,\n",
        "  amount,\n",
        "  transaction_date\n",
        "FROM transactions\n",
        "WHERE\n",
        "  status = 'SUCCESS'\n",
        "  AND amount > 5000\n",
        "  AND country = 'UK'\n",
        "ORDER BY amount DESC;"
      ],
      "metadata": {
        "id": "R4peLRZ66Y_V"
      },
      "execution_count": null,
      "outputs": []
    },
    {
      "cell_type": "code",
      "source": [],
      "metadata": {
        "id": "IFdyTm9E6ivM"
      },
      "execution_count": null,
      "outputs": []
    }
  ]
}