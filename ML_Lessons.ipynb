{
  "nbformat": 4,
  "nbformat_minor": 0,
  "metadata": {
    "colab": {
      "provenance": [],
      "authorship_tag": "ABX9TyOYQj2mRntUDZXniu8hjx60",
      "include_colab_link": true
    },
    "kernelspec": {
      "name": "python3",
      "display_name": "Python 3"
    },
    "language_info": {
      "name": "python"
    }
  },
  "cells": [
    {
      "cell_type": "markdown",
      "metadata": {
        "id": "view-in-github",
        "colab_type": "text"
      },
      "source": [
        "<a href=\"https://colab.research.google.com/github/Dcode626/ML_lessons/blob/main/ML_Lessons.ipynb\" target=\"_parent\"><img src=\"https://colab.research.google.com/assets/colab-badge.svg\" alt=\"Open In Colab\"/></a>"
      ]
    },
    {
      "cell_type": "code",
      "execution_count": null,
      "metadata": {
        "id": "TfL3iFnup99G"
      },
      "outputs": [],
      "source": [
        "What machine learning algorithms did you leverage and why?\n",
        "How did you handle missing or dirty data in this project?\n",
        "How well did your models perform and what metrics did you use to evaluate them?\n",
        "What techniques did you use when feature engineering?\n"
      ]
    },
    {
      "cell_type": "markdown",
      "source": [
        "What machine learning algorithms did you leverage and why?\n",
        "How did you handle missing or dirty data in this project?\n",
        "How well did your models perform and what metrics did you use to evaluate them?\n",
        "What techniques did you use when feature engineering?"
      ],
      "metadata": {
        "id": "SO8ZCS3GuNs4"
      }
    },
    {
      "cell_type": "markdown",
      "source": [],
      "metadata": {
        "id": "RgFoM_-juMyf"
      }
    }
  ]
}